{
 "cells": [
  {
   "cell_type": "markdown",
   "metadata": {},
   "source": [
    "# Tasks - Daniel Gallagher - G00360986"
   ]
  },
  {
   "cell_type": "markdown",
   "metadata": {},
   "source": [
    "This notebook contains the solutions to the \"Tasks Assesments\" for the Emerging Technologies module for the fourth year of GMIT's software development course. The author of this notebook is Daniel Gallagher who can be contacted by email if needed via G00360986@gmit.ie. This task is the Chi-Squared test for independence. This is the second task for our tasks assignment.\n",
    "***"
   ]
  },
  {
   "cell_type": "markdown",
   "metadata": {},
   "source": [
    "##### The Chi-squared test\n",
    "This is a statistical hypothesis which is used to determine whether there is an association between categorical variables. The test utilizes a contingency table to analyze the data. In statistics a contingency table is a table in a matrix format that displays the fequency distribution of the variables. The categories for one variable appear in the rows, and the categories for the other variable appear in columns."
   ]
  },
  {
   "cell_type": "markdown",
   "metadata": {},
   "source": [
    "##### The Goal\n",
    "The goal of this task is to use scipy.stats to verify the value is approximately 24.6 and also to calculate the associated p value in the program.\n",
    "\n",
    "***"
   ]
  },
  {
   "cell_type": "markdown",
   "metadata": {},
   "source": [
    "##### The Table\n",
    "The below table is the values we have been given in the brief for this task. I made a simple table to input these into my document so you can see the values clearly and consicesly.\n",
    "\n",
    "| NAME | A | B | C | D | TOTAL|\n",
    "| --- | --- | --- | --- | --- |---|\n",
    "| WHITE COLLAR | 90 | 60 | 104 | 95 | 349\n",
    "| BLUE COLLAR | 30 | 50 | 51 | 20 | 151\n",
    "| NO COLLAR |30 | 40 | 45 | 35 | 150 |\n",
    "| --- | --- | --- | --- | --- |---|\n",
    "| TOTAL |  150 | 150 | 200 | 150 | 650 |\n",
    "\n",
    "***"
   ]
  },
  {
   "cell_type": "markdown",
   "metadata": {},
   "source": [
    "##### The Test\n",
    "The following code below this is the finished program which is using the Chi-Squared test using the scipy.stats import which is referenced in the helpful links below.\n",
    "***"
   ]
  },
  {
   "cell_type": "code",
   "execution_count": 9,
   "metadata": {},
   "outputs": [
    {
     "name": "stdout",
     "output_type": "stream",
     "text": [
      "======================\n",
      "Calculated Chi-Value\n",
      "24.5712028585826\n",
      "======================\n",
      "Associated p Value\n",
      "0.0004098425861096696\n",
      "======================\n"
     ]
    }
   ],
   "source": [
    "#scipy.stats import we are using\n",
    "import scipy.stats as stats\n",
    "\n",
    "#values which we got from the above table rows (ABCD).\n",
    "rows = [[90,60,104,95],[30,50,51,20],[30,40,45,35]]\n",
    "\n",
    "#We then pass these rows into the test for independence.\n",
    "chi2,p,doof,exp = stats.chi2_contingency(rows)\n",
    "\n",
    "#We then print the results we get from the test.\n",
    "print(\"======================\")\n",
    "print(\"Calculated Chi-Value\")\n",
    "print(chi2)\n",
    "print(\"======================\")\n",
    "print(\"Associated p Value\")\n",
    "print(p)\n",
    "print(\"======================\")"
   ]
  },
  {
   "cell_type": "markdown",
   "metadata": {},
   "source": [
    "##### Helpful Links\n",
    "-> https://docs.scipy.org/doc/scipy/reference/generated/scipy.stats.chisquare.html\n",
    "\n",
    "-> https://docs.scipy.org/doc/scipy/reference/generated/scipy.stats.chi2_contingency.html\n",
    "\n",
    "-> https://machinelearningmastery.com/chi-squared-test-for-machine-learning/"
   ]
  }
 ],
 "metadata": {
  "kernelspec": {
   "display_name": "Python 3",
   "language": "python",
   "name": "python3"
  },
  "language_info": {
   "codemirror_mode": {
    "name": "ipython",
    "version": 3
   },
   "file_extension": ".py",
   "mimetype": "text/x-python",
   "name": "python",
   "nbconvert_exporter": "python",
   "pygments_lexer": "ipython3",
   "version": "3.8.3"
  }
 },
 "nbformat": 4,
 "nbformat_minor": 4
}
