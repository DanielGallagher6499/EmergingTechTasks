{
 "cells": [
  {
   "cell_type": "markdown",
   "metadata": {},
   "source": [
    "# Tasks - Daniel Gallagher - G00360986"
   ]
  },
  {
   "cell_type": "markdown",
   "metadata": {},
   "source": [
    "This notebook contains the solutions to the \"Tasks Assesments\" for the Emerging Technologies module for the fourth year of GMIT's software development course. The author of this notebook is Daniel Gallagher who can be contacted by email if needed via G00360986@gmit.ie.\n",
    "***"
   ]
  },
  {
   "cell_type": "markdown",
   "metadata": {},
   "source": [
    "###### STDEV.P Function"
   ]
  },
  {
   "cell_type": "markdown",
   "metadata": {},
   "source": [
    "This function is used to calculate the standard deviation of an ENTIRE population of a supplied set of values. To use this you should have the ENTIRE data set such as the height of 10 kids in a class room. The standard deviation is the measure of the amount of deviation of a set of values."
   ]
  },
  {
   "cell_type": "markdown",
   "metadata": {},
   "source": [
    "###### STDEV.S Function"
   ]
  },
  {
   "cell_type": "markdown",
   "metadata": {},
   "source": [
    "This function is also used to calculate the standard deviation of a supplied set of values. This function should be used to calculate the standard deviation of a SAMPLE population. (E.g The average height of Irish men) This is where you only have a sample of the data and not an entire set."
   ]
  },
  {
   "cell_type": "markdown",
   "metadata": {},
   "source": [
    "######  The code\n",
    "****"
   ]
  },
  {
   "cell_type": "code",
   "execution_count": 3,
   "metadata": {},
   "outputs": [
    {
     "name": "stdout",
     "output_type": "stream",
     "text": [
      "STDEV.P(Full Set): 28.722813232690143\n",
      "STDEV.P(Sample): 24.166091947189145\n",
      "STDEV.S(Sample): 27.018512172212592\n"
     ]
    }
   ],
   "source": [
    "#Importing Numpy\n",
    "import numpy as np\n",
    "\n",
    "# STDEV.P\n",
    "def STDEVP(x):\n",
    "    deviation = np.sqrt(np.sum((x - np.mean(x))**2)/len(x))\n",
    "    return deviation\n",
    "\n",
    "# STDEV.S\n",
    "def STDEVS(x):\n",
    "    deviation = np.sqrt(np.sum((x - np.mean(x))**2)/(len(x)-1))\n",
    "    return deviation\n",
    "\n",
    "#Data sets\n",
    "fullSet = [10,20,30,40,50,60,70,80,90,100]\n",
    "sample = [20,40,50,70,90]\n",
    "\n",
    "#Printing Results\n",
    "print(\"STDEV.P(Full Set): \" + str(STDEVP(fullSet)))\n",
    "print(\"STDEV.P(Sample): \" + str(STDEVP(sample)))\n",
    "print(\"STDEV.S(Sample): \" + str(STDEVS(sample)))\n"
   ]
  },
  {
   "cell_type": "code",
   "execution_count": null,
   "metadata": {},
   "outputs": [],
   "source": []
  }
 ],
 "metadata": {
  "kernelspec": {
   "display_name": "Python 3",
   "language": "python",
   "name": "python3"
  },
  "language_info": {
   "codemirror_mode": {
    "name": "ipython",
    "version": 3
   },
   "file_extension": ".py",
   "mimetype": "text/x-python",
   "name": "python",
   "nbconvert_exporter": "python",
   "pygments_lexer": "ipython3",
   "version": "3.8.3"
  }
 },
 "nbformat": 4,
 "nbformat_minor": 4
}
