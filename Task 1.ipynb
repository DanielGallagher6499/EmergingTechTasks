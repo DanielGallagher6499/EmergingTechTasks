{
 "cells": [
  {
   "cell_type": "markdown",
   "metadata": {},
   "source": [
    "# Tasks - Daniel Gallagher - G00360986"
   ]
  },
  {
   "cell_type": "markdown",
   "metadata": {},
   "source": [
    "This notebook contains the solutions to the \"Tasks Assesments\" for the Emerging Technologies module for the fourth year of GMIT's software development course. The author of this notebook is Daniel Gallagher who can be contacted by email if needed via G00360986@gmit.ie. This program calculates the square root of 2 to 100 decimal places using the Newton-Raphson method.\n",
    "***"
   ]
  },
  {
   "cell_type": "markdown",
   "metadata": {},
   "source": [
    "### The Newton-Raphson Method"
   ]
  },
  {
   "cell_type": "markdown",
   "metadata": {},
   "source": [
    "The Newton-Raphson method is a method for finding the roots of a function. Unlike other methods this method only needs one initial value which we refer to as the initial guess or approximation (n). In the program below this is denoted as the n value. The Newton-Raphson method uses an iterative process to approach one root of a function. "
   ]
  },
  {
   "cell_type": "markdown",
   "metadata": {},
   "source": [
    "##### How it works (Square Root of 2)"
   ]
  },
  {
   "attachments": {
    "image.png": {
     "image/png": "[encoded data removed]"
    }
   },
   "cell_type": "markdown",
   "metadata": {},
   "source": [
    "We firstly start off with the function F(x) = x² - 2. x being our initial guess , for this example let x be 2. F(1) = 1² - 2. This is going to give us a value of -1.\n",
    "\n",
    "Once done this we move on and we use the dirivitive method. This method is denoted as Fx = 2x which in this case give us an answer of 2.\n",
    "\n",
    "Next we move on to the second dirivitive. This method is defined as in the picture below.\n",
    "\n",
    "![image.png](attachment:image.png)\n",
    "\n",
    "This give us an answer of 3/2. \n",
    "\n",
    "We then simply use this answer of 3/2 and repeat the process using this as our x value. As we repeat this method and iterate more times over this process it leads us to having a more acurate answer. Most modern day calculators use this method in an aolgorithm to compute the square roots of numbers.\n",
    "\n"
   ]
  },
  {
   "cell_type": "markdown",
   "metadata": {},
   "source": [
    "***"
   ]
  },
  {
   "cell_type": "code",
   "execution_count": 3,
   "metadata": {},
   "outputs": [
    {
     "name": "stdout",
     "output_type": "stream",
     "text": [
      "1.4142135623730950488016887242096980785696718753769480731766797379907324784621070388503875343276415727\n"
     ]
    }
   ],
   "source": [
    "def squareRoot(n): \n",
    "    #n =  initial approximation of answer\n",
    "\n",
    "    x = int(n) \n",
    "    y = int(1)\n",
    "      \n",
    "    # e decides the accuracy level \n",
    "    e = 0.100\n",
    "    \n",
    "    #Loops over the interations\n",
    "    while(x - y > e): \n",
    "        x = (x + y) // 2\n",
    "        y = n // x \n",
    "  \n",
    "    return int(x)\n",
    "\n",
    "n = 2 * 10 ** 200\n",
    "print(f'{squareRoot(n) // 10**100}.{squareRoot(n) % 10**100:100d}') "
   ]
  },
  {
   "cell_type": "markdown",
   "metadata": {},
   "source": [
    "### References"
   ]
  },
  {
   "cell_type": "markdown",
   "metadata": {},
   "source": [
    "[1] https://web.mit.edu/10.001/Web/Course_Notes/NLAE/node6.html\n",
    "\n",
    "[2] https://stackoverflow.com/questions/15193927/what-do-these-operators-mean\n"
   ]
  },
  {
   "cell_type": "markdown",
   "metadata": {},
   "source": [
    "***"
   ]
  }
 ],
 "metadata": {
  "kernelspec": {
   "display_name": "Python 3",
   "language": "python",
   "name": "python3"
  },
  "language_info": {
   "codemirror_mode": {
    "name": "ipython",
    "version": 3
   },
   "file_extension": ".py",
   "mimetype": "text/x-python",
   "name": "python",
   "nbconvert_exporter": "python",
   "pygments_lexer": "ipython3",
   "version": "3.8.3"
  }
 },
 "nbformat": 4,
 "nbformat_minor": 4
}
